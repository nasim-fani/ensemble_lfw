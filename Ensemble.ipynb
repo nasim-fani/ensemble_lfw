{
  "nbformat": 4,
  "nbformat_minor": 0,
  "metadata": {
    "colab": {
      "name": "Ensemble.ipynb",
      "provenance": [],
      "collapsed_sections": [],
      "authorship_tag": "ABX9TyPz/2GG+7Bt5uqgB7gUBJjK",
      "include_colab_link": true
    },
    "kernelspec": {
      "name": "python3",
      "display_name": "Python 3"
    },
    "language_info": {
      "name": "python"
    }
  },
  "cells": [
    {
      "cell_type": "markdown",
      "metadata": {
        "id": "view-in-github",
        "colab_type": "text"
      },
      "source": [
        "<a href=\"https://colab.research.google.com/github/nasim-fani/ensemble_lfw/blob/main/Ensemble.ipynb\" target=\"_parent\"><img src=\"https://colab.research.google.com/assets/colab-badge.svg\" alt=\"Open In Colab\"/></a>"
      ]
    },
    {
      "cell_type": "code",
      "execution_count": null,
      "metadata": {
        "colab": {
          "base_uri": "https://localhost:8080/"
        },
        "id": "5Uog7GWSyQ8_",
        "outputId": "494ffac4-a759-43d3-807d-e6a1177137a5"
      },
      "outputs": [
        {
          "output_type": "stream",
          "name": "stdout",
          "text": [
            "Mounted at /content/gdrive\n"
          ]
        }
      ],
      "source": [
        "from google.colab import drive\n",
        "drive.mount('/content/gdrive')"
      ]
    },
    {
      "cell_type": "code",
      "source": [
        "!unzip  \"/content/gdrive/MyDrive/project.zip\""
      ],
      "metadata": {
        "id": "ZEgo18VWyxf_"
      },
      "execution_count": null,
      "outputs": []
    },
    {
      "cell_type": "code",
      "source": [
        "import re\n",
        "import os\n",
        "import pandas as pd\n",
        "import numpy as np\n",
        "from sklearn.ensemble import RandomForestClassifier\n",
        "from sklearn.ensemble import AdaBoostClassifier\n",
        "from sklearn.ensemble import BaggingClassifier\n",
        "from sklearn.tree import DecisionTreeClassifier"
      ],
      "metadata": {
        "id": "qegbt8zq428o"
      },
      "execution_count": null,
      "outputs": []
    },
    {
      "cell_type": "code",
      "source": [
        "def readtxtfile(path):\n",
        "  file = open(path, 'r')\n",
        "  Line = file.read()\n",
        "  Line = Line.replace(\"[\",\"\")\n",
        "  Line = Line.replace(\"]\",\"\")\n",
        "  data = np.fromstring(Line, sep=' ')\n",
        "  return data"
      ],
      "metadata": {
        "id": "T3EXH7yVUCKx"
      },
      "execution_count": null,
      "outputs": []
    },
    {
      "cell_type": "code",
      "source": [
        "def createData(path):\n",
        "  file1 = open(path, 'r')\n",
        "  Lines = file1.readlines()[1:]\n",
        "  count = 0\n",
        "  data = np.empty([len(Lines),512])\n",
        "  labels = np.zeros(len(Lines))\n",
        "  for line in Lines:\n",
        "    line = line.strip()\n",
        "    line = re.split(r'\\t+', line)\n",
        "    # print(\"Line{}: {}\".format(count, line))\n",
        "    for dirpath, dirnames, filenames in os.walk(\"/content/lfw/\"+line[0]):\n",
        "        for filename in filenames:\n",
        "          # first file\n",
        "          if filename == line[0]+\"_\"+f\"{int(line[1]):04}\"+\".txt\":\n",
        "              path1 = os.path.join(dirpath, filename)\n",
        "              val1 = readtxtfile(path1)\n",
        "              \n",
        "          else:#second file\n",
        "            if len(line)==3:#3tayi\n",
        "              if filename == line[0]+\"_\"+f\"{int(line[2]):04}\"+\".txt\":\n",
        "                path2 = os.path.join(dirpath, filename)\n",
        "                val2 = readtxtfile(path2)\n",
        "                \n",
        "    if len(line)==4:#4tayi\n",
        "          for dirpath1, dirnames1, filenames1 in os.walk(\"/content/lfw/\"+line[2]):\n",
        "              for filename1 in filenames1:\n",
        "                  if filename1 == line[2]+\"_\"+f\"{int(line[3]):04}\"+\".txt\":\n",
        "                    path2 = os.path.join(dirpath1, filename1)\n",
        "                    val2 = readtxtfile(path2)\n",
        "                    \n",
        "    if len(line)==3:\n",
        "      label = 1\n",
        "    else: label = 0\n",
        "    # row = np.concatenate((val1, val2), axis=None)\n",
        "    # row = np.sum((val1, val2))\n",
        "    row = np.subtract(val1,val2)\n",
        "    data[count] = row\n",
        "    labels[count] = label\n",
        "    count += 1\n",
        "  return data,labels"
      ],
      "metadata": {
        "id": "MDltYTMz1WdL"
      },
      "execution_count": null,
      "outputs": []
    },
    {
      "cell_type": "code",
      "source": [
        "train_data, train_labels = createData('pairsDevTrain.txt')\n",
        "test_data, test_labels = createData('pairsDevTest.txt')"
      ],
      "metadata": {
        "id": "H5jfQDI0dVek"
      },
      "execution_count": null,
      "outputs": []
    },
    {
      "cell_type": "markdown",
      "source": [
        "**Random forest**"
      ],
      "metadata": {
        "id": "cdcInAS-tBeZ"
      }
    },
    {
      "cell_type": "code",
      "source": [
        "clf = RandomForestClassifier(n_estimators=300,max_depth=50,max_features=0.4, warm_start=True)\n",
        "clf.fit(train_data, train_labels)\n",
        "clf.score(test_data, test_labels)"
      ],
      "metadata": {
        "colab": {
          "base_uri": "https://localhost:8080/"
        },
        "id": "R7spw1NUm7ni",
        "outputId": "b2732292-6902-4aed-fb36-106121ebd4d0"
      },
      "execution_count": null,
      "outputs": [
        {
          "output_type": "execute_result",
          "data": {
            "text/plain": [
              "0.824"
            ]
          },
          "metadata": {},
          "execution_count": 8
        }
      ]
    },
    {
      "cell_type": "markdown",
      "source": [
        "\n",
        "\n",
        "*   sum, no param -> 0.491\n",
        "*   concat, no param -> 0.632\n",
        "*   concat, n_estimators=300,max_depth=50,max_features=0.4 -> 0.688\n",
        "*   subtract, n_estimators=300,max_depth=50,max_features=0.4 -> 0.817\n",
        "\n",
        "\n",
        "\n",
        "\n",
        "\n"
      ],
      "metadata": {
        "id": "RFzkyJzRr3cU"
      }
    },
    {
      "cell_type": "markdown",
      "source": [
        " **AdaBoost**"
      ],
      "metadata": {
        "id": "n5v0-4iftFnd"
      }
    },
    {
      "cell_type": "code",
      "source": [
        "#Adaboost\n",
        "dt_stump = DecisionTreeClassifier(max_depth=5, min_samples_leaf=1)\n",
        "dt_stump.fit(train_data, train_labels)\n",
        "\n",
        "\n",
        "clf = AdaBoostClassifier(n_estimators=300,base_estimator=dt_stump)\n",
        "clf.fit(train_data, train_labels)\n",
        "clf.score(test_data, test_labels)"
      ],
      "metadata": {
        "colab": {
          "base_uri": "https://localhost:8080/"
        },
        "id": "FoHh92kanKfs",
        "outputId": "d905928a-6994-4491-9783-0b20b3b98a97"
      },
      "execution_count": null,
      "outputs": [
        {
          "output_type": "execute_result",
          "data": {
            "text/plain": [
              "0.734"
            ]
          },
          "metadata": {},
          "execution_count": 186
        }
      ]
    },
    {
      "cell_type": "markdown",
      "source": [
        "\n",
        "\n",
        "\n",
        "\n",
        "*   sum, no param -> 0.502\n",
        "*   concat, no param -> 0.522\n",
        "*   subtract, n_estimators=300 ->0.788\n",
        "\n",
        "\n",
        "\n"
      ],
      "metadata": {
        "id": "NdGICTHprqs9"
      }
    }
  ]
}